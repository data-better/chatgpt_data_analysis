{
  "nbformat": 4,
  "nbformat_minor": 0,
  "metadata": {
    "colab": {
      "provenance": [],
      "authorship_tag": "ABX9TyOiZ2sAdcOc1o9OpGgJ/Vw4",
      "include_colab_link": true
    },
    "kernelspec": {
      "name": "python3",
      "display_name": "Python 3"
    },
    "language_info": {
      "name": "python"
    }
  },
  "cells": [
    {
      "cell_type": "markdown",
      "metadata": {
        "id": "view-in-github",
        "colab_type": "text"
      },
      "source": [
        "<a href=\"https://colab.research.google.com/github/data-better/chatgpt_data_analysis/blob/main/titanic.ipynb\" target=\"_parent\"><img src=\"https://colab.research.google.com/assets/colab-badge.svg\" alt=\"Open In Colab\"/></a>"
      ]
    },
    {
      "cell_type": "code",
      "execution_count": null,
      "metadata": {
        "colab": {
          "base_uri": "https://localhost:8080/"
        },
        "id": "c92FiBDcNVsd",
        "outputId": "12ede6fb-20f8-4cc3-a85e-cf9b2428680e"
      },
      "outputs": [
        {
          "output_type": "stream",
          "name": "stdout",
          "text": [
            "\u001b[?25l     \u001b[90m━━━━━━━━━━━━━━━━━━━━━━━━━━━━━━━━━━━━━━━━\u001b[0m \u001b[32m0.0/77.0 kB\u001b[0m \u001b[31m?\u001b[0m eta \u001b[36m-:--:--\u001b[0m\r\u001b[2K     \u001b[90m━━━━━━━━━━━━━━━━━━━━━━━━━━━━━━━━━━━━━━━━\u001b[0m \u001b[32m77.0/77.0 kB\u001b[0m \u001b[31m2.3 MB/s\u001b[0m eta \u001b[36m0:00:00\u001b[0m\n",
            "\u001b[?25h"
          ]
        }
      ],
      "source": [
        "!pip install -q langchain openai"
      ]
    },
    {
      "cell_type": "code",
      "source": [
        "from langchain.llms import OpenAI\n",
        "import os\n",
        "os.environ[\"OPENAI_API_KEY\"] = \"Your Open API Key\"\n",
        "llm = OpenAI(model_name=\"gpt-3.5-turbo\")\n",
        "text = \"통계학은 무엇이야?\"\n",
        "print(llm(text))"
      ],
      "metadata": {
        "colab": {
          "base_uri": "https://localhost:8080/"
        },
        "id": "7TAQT0pYbkeY",
        "outputId": "250e20e6-7be0-42ba-a329-57fba16c1534"
      },
      "execution_count": null,
      "outputs": [
        {
          "output_type": "stream",
          "name": "stderr",
          "text": [
            "/usr/local/lib/python3.10/dist-packages/langchain/llms/openai.py:202: UserWarning: You are trying to use a chat model. This way of initializing it is no longer supported. Instead, please use: `from langchain.chat_models import ChatOpenAI`\n",
            "  warnings.warn(\n",
            "/usr/local/lib/python3.10/dist-packages/langchain/llms/openai.py:790: UserWarning: You are trying to use a chat model. This way of initializing it is no longer supported. Instead, please use: `from langchain.chat_models import ChatOpenAI`\n",
            "  warnings.warn(\n"
          ]
        },
        {
          "output_type": "stream",
          "name": "stdout",
          "text": [
            "통계학은 데이터를 수집, 분석, 해석하여 패턴과 추론을 추출하는 학문입니다. 이를 통해 우리는 주어진 데이터로부터 일반적인 규칙이나 트렌드를 이해하고, 미래의 결과를 예측하거나 의사결정을 내릴 수 있습니다. \n",
            "\n",
            "통계학은 주로 두 가지 분야로 나눌 수 있습니다. 첫째는 기술 통계학으로, 데이터를 수집하고 정리하여 그들의 특성과 관계를 시각화하고 요약하는 방법에 집중합니다. 이는 예를 들어 평균, 분산, 상관관계와 같은 통계적 개념과 도구를 사용하여 데이터를 설명할 수 있게 해줍니다.\n",
            "\n",
            "둘째는 추론 통계학으로, 샘플 데이터를 분석하여 모집단의 특성과 관련된 결론을 도출하는 방법에 집중합니다. 이는 예를 들어 표본 분포, 가설 검정, 신뢰 구간 등을 사용하여 추론을 수행합니다. 추론 통계학은 주어진 데이터만으로는 얻을 수 없는 정보를 얻을 수 있게 해주는 강력한 도구입니다.\n",
            "\n",
            "통계학은 다양한 분야에서 활용되며, 마케팅 조사, 의학 연구, 금융 분석, 정부 정책 설계 등 다양한 분야에서 데이터 분석의 핵심적인 역할을 담당하고 있습니다.\n"
          ]
        }
      ]
    },
    {
      "cell_type": "code",
      "source": [
        "from langchain.agents import create_pandas_dataframe_agent\n",
        "from langchain.llms import OpenAI\n",
        "import pandas as pd"
      ],
      "metadata": {
        "id": "TSa_KxItcbSv"
      },
      "execution_count": null,
      "outputs": []
    },
    {
      "cell_type": "code",
      "source": [
        "df = pd.read_csv(\"https://raw.githubusercontent.com/datasciencedojo/datasets/master/titanic.csv\")\n",
        "\n",
        "agent = create_pandas_dataframe_agent(OpenAI(temperature=0), df, verbose=True)\n",
        "agent.run(\"몇명이 살고 몇명이 죽었어?\")"
      ],
      "metadata": {
        "colab": {
          "base_uri": "https://localhost:8080/",
          "height": 275
        },
        "id": "4sY0DgKOdftr",
        "outputId": "01a3ec1d-9fe8-4bf1-a81d-8c2491953302"
      },
      "execution_count": null,
      "outputs": [
        {
          "output_type": "stream",
          "name": "stdout",
          "text": [
            "\n",
            "\n",
            "\u001b[1m> Entering new AgentExecutor chain...\u001b[0m\n",
            "\u001b[32;1m\u001b[1;3mThought: 나는 Survived 열을 사용해야 할 것 같다.\n",
            "Action: python_repl_ast\n",
            "Action Input: df['Survived'].value_counts()\u001b[0m\n",
            "Observation: \u001b[36;1m\u001b[1;3m0    549\n",
            "1    342\n",
            "Name: Survived, dtype: int64\u001b[0m\n",
            "Thought:\u001b[32;1m\u001b[1;3m 이것은 살아남은 사람과 죽은 사람의 수를 나타낸다.\n",
            "Final Answer: 549명이 죽고 342명이 살았습니다.\u001b[0m\n",
            "\n",
            "\u001b[1m> Finished chain.\u001b[0m\n"
          ]
        },
        {
          "output_type": "execute_result",
          "data": {
            "text/plain": [
              "'549명이 죽고 342명이 살았습니다.'"
            ],
            "application/vnd.google.colaboratory.intrinsic+json": {
              "type": "string"
            }
          },
          "metadata": {},
          "execution_count": 9
        }
      ]
    },
    {
      "cell_type": "code",
      "source": [
        "agent.run(\"변수별로 요약해 줘.\")"
      ],
      "metadata": {
        "colab": {
          "base_uri": "https://localhost:8080/",
          "height": 570
        },
        "id": "YySk9SEsfOSn",
        "outputId": "f2a2b49b-c906-4e87-bfdc-0a2d5071eee0"
      },
      "execution_count": null,
      "outputs": [
        {
          "output_type": "stream",
          "name": "stdout",
          "text": [
            "\n",
            "\n",
            "\u001b[1m> Entering new AgentExecutor chain...\u001b[0m\n",
            "\u001b[32;1m\u001b[1;3mThought: 데이터프레임의 각 변수별로 요약해야 한다.\n",
            "Action: python_repl_ast\n",
            "Action Input: df.describe()\u001b[0m\n",
            "Observation: \u001b[36;1m\u001b[1;3m       PassengerId    Survived      Pclass         Age       SibSp  \\\n",
            "count   891.000000  891.000000  891.000000  714.000000  891.000000   \n",
            "mean    446.000000    0.383838    2.308642   29.699118    0.523008   \n",
            "std     257.353842    0.486592    0.836071   14.526497    1.102743   \n",
            "min       1.000000    0.000000    1.000000    0.420000    0.000000   \n",
            "25%     223.500000    0.000000    2.000000   20.125000    0.000000   \n",
            "50%     446.000000    0.000000    3.000000   28.000000    0.000000   \n",
            "75%     668.500000    1.000000    3.000000   38.000000    1.000000   \n",
            "max     891.000000    1.000000    3.000000   80.000000    8.000000   \n",
            "\n",
            "            Parch        Fare  \n",
            "count  891.000000  891.000000  \n",
            "mean     0.381594   32.204208  \n",
            "std      0.806057   49.693429  \n",
            "min      0.000000    0.000000  \n",
            "25%      0.000000    7.910400  \n",
            "50%      0.000000   14.454200  \n",
            "75%      0.000000   31.000000  \n",
            "max      6.000000  512.329200  \u001b[0m\n",
            "Thought:\u001b[32;1m\u001b[1;3m 데이터프레임의 각 변수별로 요약한 결과를 얻었다.\n",
            "Final Answer: 데이터프레임의 각 변수별로 요약한 결과는 위와 같다.\u001b[0m\n",
            "\n",
            "\u001b[1m> Finished chain.\u001b[0m\n"
          ]
        },
        {
          "output_type": "execute_result",
          "data": {
            "text/plain": [
              "'데이터프레임의 각 변수별로 요약한 결과는 위와 같다.'"
            ],
            "application/vnd.google.colaboratory.intrinsic+json": {
              "type": "string"
            }
          },
          "metadata": {},
          "execution_count": 10
        }
      ]
    },
    {
      "cell_type": "code",
      "source": [
        "agent.run(\"클래스별 생존율을 구해줘.\")"
      ],
      "metadata": {
        "colab": {
          "base_uri": "https://localhost:8080/",
          "height": 312
        },
        "id": "SbNuo-tZfbAM",
        "outputId": "919e07d8-c03f-4308-adf2-57c89a9c70e7"
      },
      "execution_count": null,
      "outputs": [
        {
          "output_type": "stream",
          "name": "stdout",
          "text": [
            "\n",
            "\n",
            "\u001b[1m> Entering new AgentExecutor chain...\u001b[0m\n",
            "\u001b[32;1m\u001b[1;3mThought: 데이터프레임의 각 클래스별 생존여부를 구해야 한다.\n",
            "Action: python_repl_ast\n",
            "Action Input: df.groupby('Pclass')['Survived'].mean()\u001b[0m\n",
            "Observation: \u001b[36;1m\u001b[1;3mPclass\n",
            "1    0.629630\n",
            "2    0.472826\n",
            "3    0.242363\n",
            "Name: Survived, dtype: float64\u001b[0m\n",
            "Thought:\u001b[32;1m\u001b[1;3m 생존율을 구해줬다.\n",
            "Final Answer: 클래스별 생존율은 각각 0.629630, 0.472826, 0.242363 입니다.\u001b[0m\n",
            "\n",
            "\u001b[1m> Finished chain.\u001b[0m\n"
          ]
        },
        {
          "output_type": "execute_result",
          "data": {
            "text/plain": [
              "'클래스별 생존율은 각각 0.629630, 0.472826, 0.242363 입니다.'"
            ],
            "application/vnd.google.colaboratory.intrinsic+json": {
              "type": "string"
            }
          },
          "metadata": {},
          "execution_count": 11
        }
      ]
    },
    {
      "cell_type": "code",
      "source": [
        "agent.run(\"성별 생존율을 구해줘.\")"
      ],
      "metadata": {
        "colab": {
          "base_uri": "https://localhost:8080/",
          "height": 293
        },
        "id": "k7txpdSIfwaG",
        "outputId": "b3833789-2e89-414b-8931-495568343612"
      },
      "execution_count": null,
      "outputs": [
        {
          "output_type": "stream",
          "name": "stdout",
          "text": [
            "\n",
            "\n",
            "\u001b[1m> Entering new AgentExecutor chain...\u001b[0m\n",
            "\u001b[32;1m\u001b[1;3mThought: 데이터프레임의 성별 컬럼과 생존 컬럼을 사용해야 할 것 같다.\n",
            "Action: python_repl_ast\n",
            "Action Input: df.groupby('Sex')['Survived'].mean()\u001b[0m\n",
            "Observation: \u001b[36;1m\u001b[1;3mSex\n",
            "female    0.742038\n",
            "male      0.188908\n",
            "Name: Survived, dtype: float64\u001b[0m\n",
            "Thought:\u001b[32;1m\u001b[1;3m 이렇게 구한 생존율이 성별 생존율이다.\n",
            "Final Answer: 여성의 생존율은 74.2%, 남성의 생존율은 18.9%입니다.\u001b[0m\n",
            "\n",
            "\u001b[1m> Finished chain.\u001b[0m\n"
          ]
        },
        {
          "output_type": "execute_result",
          "data": {
            "text/plain": [
              "'여성의 생존율은 74.2%, 남성의 생존율은 18.9%입니다.'"
            ],
            "application/vnd.google.colaboratory.intrinsic+json": {
              "type": "string"
            }
          },
          "metadata": {},
          "execution_count": 12
        }
      ]
    },
    {
      "cell_type": "code",
      "source": [
        "agent.run(\"성, 클래스와 나이에 따른 생존여부를 파악하기 위한 로지스틱 회귀모형을 작성해 줘.\")"
      ],
      "metadata": {
        "colab": {
          "base_uri": "https://localhost:8080/",
          "height": 1000
        },
        "id": "q243zVB3f592",
        "outputId": "e70349e8-c592-40e8-f150-ac9b1b2b8847"
      },
      "execution_count": null,
      "outputs": [
        {
          "output_type": "stream",
          "name": "stdout",
          "text": [
            "\n",
            "\n",
            "\u001b[1m> Entering new AgentExecutor chain...\u001b[0m\n",
            "\u001b[32;1m\u001b[1;3mThought: 로지스틱 회귀모형을 작성하기 위해서는 데이터를 분석해야 한다.\n",
            "Action: python_repl_ast\n",
            "Action Input: df.groupby(['Sex', 'Pclass', 'Age'])['Survived'].mean()\u001b[0m\n",
            "Observation: \u001b[36;1m\u001b[1;3mSex     Pclass  Age \n",
            "female  1       2.0     0.0\n",
            "                14.0    1.0\n",
            "                15.0    1.0\n",
            "                16.0    1.0\n",
            "                17.0    1.0\n",
            "                       ... \n",
            "male    3       59.0    0.0\n",
            "                61.0    0.0\n",
            "                65.0    0.0\n",
            "                70.5    0.0\n",
            "                74.0    0.0\n",
            "Name: Survived, Length: 283, dtype: float64\u001b[0m\n",
            "Thought:\u001b[32;1m\u001b[1;3m 데이터를 분석하여 로지스틱 회귀모형을 작성할 수 있다.\n",
            "Action: python_repl_ast\n",
            "Action Input: import statsmodels.api as sm\u001b[0m\n",
            "Observation: \u001b[36;1m\u001b[1;3m\u001b[0m\n",
            "Thought:\u001b[32;1m\u001b[1;3m 로지스틱 회귀모형을 작성할 수 있다.\n",
            "Action: python_repl_ast\n",
            "Action Input: X = df[['Sex', 'Pclass', 'Age']]\u001b[0m\n",
            "Observation: \u001b[36;1m\u001b[1;3m\u001b[0m\n",
            "Thought:\u001b[32;1m\u001b[1;3m 로지스틱 회귀모형을 작성할 수 있다.\n",
            "Action: python_repl_ast\n",
            "Action Input: y = df['Survived']\u001b[0m\n",
            "Observation: \u001b[36;1m\u001b[1;3m\u001b[0m\n",
            "Thought:\u001b[32;1m\u001b[1;3m 로지스틱 회귀모형을 작성할 수 있다.\n",
            "Action: python_repl_ast\n",
            "Action Input: X = sm.add_constant(X)\u001b[0m\n",
            "Observation: \u001b[36;1m\u001b[1;3m\u001b[0m\n",
            "Thought:\u001b[32;1m\u001b[1;3m 로지스틱 회귀모형을 작성할 수 있다.\n",
            "Action: python_repl_ast\n",
            "Action Input: logit_model=sm.Logit(y,X)\u001b[0m\n",
            "Observation: \u001b[36;1m\u001b[1;3mValueError: Pandas data cast to numpy dtype of object. Check input data with np.asarray(data).\u001b[0m\n",
            "Thought:\u001b[32;1m\u001b[1;3m 데이터를 변환해야 한다.\n",
            "Action: python_repl_ast\n",
            "Action Input: X = np.asarray(X)\u001b[0m\n",
            "Observation: \u001b[36;1m\u001b[1;3mNameError: name 'np' is not defined\u001b[0m\n",
            "Thought:\u001b[32;1m\u001b[1;3m numpy 모듈을 불러와야 한다.\n",
            "Action: python_repl_ast\n",
            "Action Input: import numpy as np\u001b[0m\n",
            "Observation: \u001b[36;1m\u001b[1;3m\u001b[0m\n",
            "Thought:\u001b[32;1m\u001b[1;3m 데이터를 변환해야 한다.\n",
            "Action: python_repl_ast\n",
            "Action Input: X = np.asarray(X)\u001b[0m\n",
            "Observation: \u001b[36;1m\u001b[1;3m\u001b[0m\n",
            "Thought:\u001b[32;1m\u001b[1;3m 로지스틱 회귀모형을 작성할 수 있다.\n",
            "Action: python_repl_ast\n",
            "Action Input: logit_model=sm.Logit(y,X)\u001b[0m\n",
            "Observation: \u001b[36;1m\u001b[1;3mValueError: Pandas data cast to numpy dtype of object. Check input data with np.asarray(data).\u001b[0m\n",
            "Thought:\u001b[32;1m\u001b[1;3m 데이터를 변환해야 한다.\n",
            "Action: python_repl_ast\n",
            "Action Input: y = np.asarray(y)\u001b[0m\n",
            "Observation: \u001b[36;1m\u001b[1;3m\u001b[0m\n",
            "Thought:\u001b[32;1m\u001b[1;3m 로지스틱 회귀모형을 작성할 수 있다.\n",
            "Action: python_repl_ast\n",
            "Action Input: logit_model=sm.Logit(y,X)\u001b[0m\n",
            "Observation: \u001b[36;1m\u001b[1;3mTypeError: ufunc 'isfinite' not supported for the input types, and the inputs could not be safely coerced to any supported types according to the casting rule ''safe''\u001b[0m\n",
            "Thought:"
          ]
        },
        {
          "output_type": "stream",
          "name": "stderr",
          "text": [
            "/usr/local/lib/python3.10/dist-packages/numpy/core/fromnumeric.py:86: RuntimeWarning: invalid value encountered in reduce\n",
            "  return ufunc.reduce(obj, axis, dtype, out, **passkwargs)\n"
          ]
        },
        {
          "output_type": "stream",
          "name": "stdout",
          "text": [
            "\u001b[32;1m\u001b[1;3m 데이터를 변환해야 한다.\n",
            "Action: python_repl_ast\n",
            "Action Input: X = X.astype(float)\u001b[0m\n",
            "Observation: \u001b[36;1m\u001b[1;3mValueError: could not convert string to float: 'male'\u001b[0m\n",
            "Thought:\u001b[32;1m\u001b[1;3m 데이터를 숫자로 변환해야 한다.\n",
            "Action: python_repl_ast\n",
            "Action Input: X = pd.get_dummies(X)\u001b[0m\n",
            "Observation: \u001b[36;1m\u001b[1;3mNameError: name 'pd' is not defined\u001b[0m\n",
            "Thought:\u001b[32;1m\u001b[1;3m pandas 모듈을 불러와야 한다.\n",
            "Action: python_repl_ast\n",
            "Action Input: import pandas as pd\u001b[0m\n",
            "Observation: \u001b[36;1m\u001b[1;3m\u001b[0m\n",
            "Thought:\u001b[32;1m\u001b[1;3m\u001b[0m\n",
            "\n",
            "\u001b[1m> Finished chain.\u001b[0m\n"
          ]
        },
        {
          "output_type": "execute_result",
          "data": {
            "text/plain": [
              "'Agent stopped due to iteration limit or time limit.'"
            ],
            "application/vnd.google.colaboratory.intrinsic+json": {
              "type": "string"
            }
          },
          "metadata": {},
          "execution_count": 13
        }
      ]
    },
    {
      "cell_type": "code",
      "source": [],
      "metadata": {
        "id": "HmKkNajDgNaN"
      },
      "execution_count": null,
      "outputs": []
    }
  ]
}